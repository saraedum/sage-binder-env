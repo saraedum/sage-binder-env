{
 "cells": [
  {
   "cell_type": "markdown",
   "metadata": {},
   "source": [
    "Use this notebook to try out some experimental changes. Currently, this notebooks runs a state from `Thu, 3 May 2018 00:13:32 +0200` about which the author said:\n",
    "```\n",
    "Try to make escapeJson more POSIX compliant",
    "```\n",
    "The system might need a few hours to build the next version. You can check the state of the latest build here: <a href=\"https://circleci.com/gh/saraedum/sage/tree/binder\"><img style=\"display: inline\" src=\"https://circleci.com/gh/saraedum/sage/tree/binder.svg?style=svg\"></a>\n",
    "You can reload this notebook with the latest version anytime by clicking here: <a href=\"https://mybinder.org/v2/gh/saraedum/sage-binder-env/binder?filepath=review.ipynb\"><img style=\"display: inline\" src=\"https://camo.githubusercontent.com/d57df63fab21897847014ebaec3e7f5f48951ad2/68747470733a2f2f626574612e6d7962696e6465722e6f72672f62616467652e737667\"></a> (changes are not preserved.)"
   ]
  },
  {
   "cell_type": "code",
   "execution_count": null,
   "metadata": {},
   "outputs": [],
   "source": [
    "1 + 1"
   ]
  },
  {
   "cell_type": "code",
   "execution_count": null,
   "metadata": {},
   "outputs": [],
   "source": []
  }
 ],
 "metadata": {
  "kernelspec": {
   "display_name": "SageMath experimental",
   "language": "",
   "name": "sagemath"
  },
  "language_info": {
   "codemirror_mode": {
    "name": "ipython",
    "version": 2
   },
   "file_extension": ".py",
   "mimetype": "text/x-python",
   "name": "python",
   "nbconvert_exporter": "python",
   "pygments_lexer": "ipython2",
   "version": "2.7.13"
  }
 },
 "nbformat": 4,
 "nbformat_minor": 1
}
