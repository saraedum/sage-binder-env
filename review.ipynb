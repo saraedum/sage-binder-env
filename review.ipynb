{
 "cells": [
  {
   "cell_type": "markdown",
   "metadata": {},
   "source": [
    "Use this notebook to try out some experimental changes. Currently, this notebooks runs a state from Mon, 26 Feb 2018 16:10:04 +0100 about which the author said:\n",
    "```\n",
    "Support for funny characters in branch names\n",
    "```\n",
    "The system might need a few hours to build the next version. You can check the state of the latest build here: <a href=\"https://gitlab.com/saraedum/sage/commits/binder\"><img style=\"display: inline\" src=\"https://gitlab.com/saraedum/sage/badges/binder/pipeline.svg\"></a>\n",
    "You can reload this notebook with the latest version anytime by clicking here: <a href=\"https://mybinder.org/v2/gh/saraedum/sage-binder-env/binder?filepath=review.ipynb\"><img style=\"display: inline\" src=\"https://camo.githubusercontent.com/d57df63fab21897847014ebaec3e7f5f48951ad2/68747470733a2f2f626574612e6d7962696e6465722e6f72672f62616467652e737667\"></a> (changes are not preserved.)"
   ]
  },
  {
   "cell_type": "code",
   "execution_count": null,
   "metadata": {},
   "outputs": [],
   "source": [
    "1 + 1"
   ]
  },
  {
   "cell_type": "code",
   "execution_count": null,
   "metadata": {},
   "outputs": [],
   "source": []
  }
 ],
 "metadata": {
  "kernelspec": {
   "display_name": "SageMath experimental",
   "language": "",
   "name": "sagemath"
  },
  "language_info": {
   "codemirror_mode": {
    "name": "ipython",
    "version": 2
   },
   "file_extension": ".py",
   "mimetype": "text/x-python",
   "name": "python",
   "nbconvert_exporter": "python",
   "pygments_lexer": "ipython2",
   "version": "2.7.13"
  }
 },
 "nbformat": 4,
 "nbformat_minor": 1
}
